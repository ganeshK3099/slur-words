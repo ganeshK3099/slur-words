{
  "metadata": {
    "language_info": {
      "codemirror_mode": {
        "name": "python",
        "version": 3
      },
      "file_extension": ".py",
      "mimetype": "text/x-python",
      "name": "python",
      "nbconvert_exporter": "python",
      "pygments_lexer": "ipython3",
      "version": "3.8"
    },
    "kernelspec": {
      "name": "python",
      "display_name": "Python (Pyodide)",
      "language": "python"
    }
  },
  "nbformat_minor": 4,
  "nbformat": 4,
  "cells": [
    {
      "cell_type": "code",
      "source": "def profanity_score(tweets, slurs): # defines a function profanity_score that ,\n   \n    scores = []\n    for tweet in tweets:\n        score = 0\n        tweet = tweet.lower()\n        # converting each tweet and slur to lowercase \n        #using a loop to iterate over each tweet\n        for slur in slurs:\n            if slur.lower() in tweet:\n                #checking for matches between each tweet\n                score += 1\n        #If a match is found, the score for tweet is incremented. \n        scores.append(score)\n     #returns a list of scores indicating the number of slurs found in each tweet.\n    return scores\n#tweets with slur words\ntweets = [\n    \"This is a tweet without any slurs.\",\n    \"This tweet contains a racial SLUR(slor1).\" ,\n    \"Another tweet with a different racial slur(slor1,slur2).\"\n]\n\nslurs = [\"slor1\", \"SLUR2\"]   #given words in this list can be slur words which will detect in the above sentences\n\nscores = profanity_score(tweets, slurs)\n#The program returns a list of scores for each tweet, indicating the degree of profanity.\nfor tweet, score in zip(tweets, scores):\n    print(f\"{tweet}: {score}\")\n",
      "metadata": {
        "trusted": true
      },
      "execution_count": 8,
      "outputs": [
        {
          "name": "stdout",
          "text": "This is a tweet without any slurs.: 0\nThis tweet contains a racial SLUR(slor1).: 1\nAnother tweet with a different racial slur(slor1,slur2).: 2\n",
          "output_type": "stream"
        }
      ]
    },
    {
      "cell_type": "code",
      "source": "",
      "metadata": {},
      "execution_count": null,
      "outputs": []
    },
    {
      "cell_type": "code",
      "source": "",
      "metadata": {},
      "execution_count": null,
      "outputs": []
    }
  ]
}